{
 "cells": [
  {
   "cell_type": "code",
   "execution_count": 1,
   "metadata": {},
   "outputs": [],
   "source": [
    "import numpy as np\n",
    "import sys\n",
    "import os"
   ]
  },
  {
   "cell_type": "code",
   "execution_count": 2,
   "metadata": {},
   "outputs": [],
   "source": [
    "data_folder = \"\"\n",
    "tsp_file = \"u2319.tsp\""
   ]
  },
  {
   "cell_type": "code",
   "execution_count": 3,
   "metadata": {},
   "outputs": [],
   "source": [
    "tsp_name = tsp_file.split('.')[0]\n",
    "cities_list = []\n",
    "with open(os.path.join(data_folder, tsp_file)) as f:\n",
    "    lns = f.readlines()"
   ]
  },
  {
   "cell_type": "code",
   "execution_count": 4,
   "metadata": {},
   "outputs": [
    {
     "data": {
      "text/plain": [
       "2319"
      ]
     },
     "execution_count": 4,
     "metadata": {},
     "output_type": "execute_result"
    }
   ],
   "source": [
    "dimension = [x for x in lns if \"DIMENSION\" in x]\n",
    "dimension = int(dimension[0].split(\":\")[1])\n",
    "dimension"
   ]
  },
  {
   "cell_type": "code",
   "execution_count": 5,
   "metadata": {},
   "outputs": [
    {
     "data": {
      "text/plain": [
       "6"
      ]
     },
     "execution_count": 5,
     "metadata": {},
     "output_type": "execute_result"
    }
   ],
   "source": [
    "first_line = [x for x in lns if \"1 \" in x]\n",
    "data_start = lns.index(first_line[0])\n",
    "data_start"
   ]
  },
  {
   "cell_type": "code",
   "execution_count": 6,
   "metadata": {},
   "outputs": [
    {
     "data": {
      "text/plain": [
       "array([[3400., 2500.],\n",
       "       [3500., 2500.],\n",
       "       [3600., 2400.],\n",
       "       ...,\n",
       "       [3300., 2700.],\n",
       "       [3300., 2600.],\n",
       "       [3300., 2500.]])"
      ]
     },
     "execution_count": 6,
     "metadata": {},
     "output_type": "execute_result"
    }
   ],
   "source": [
    "node_edge_incidence = np.empty((dimension,dimension))\n",
    "location = np.empty((dimension,2))\n",
    "for i in range(0,dimension):\n",
    "    location[i,:] = lns[i + data_start].strip().split()[1:]\n",
    "location"
   ]
  },
  {
   "cell_type": "code",
   "execution_count": 7,
   "metadata": {},
   "outputs": [
    {
     "ename": "SyntaxError",
     "evalue": "invalid syntax (<ipython-input-7-a69af08160d9>, line 8)",
     "output_type": "error",
     "traceback": [
      "\u001b[1;36m  File \u001b[1;32m\"<ipython-input-7-a69af08160d9>\"\u001b[1;36m, line \u001b[1;32m8\u001b[0m\n\u001b[1;33m    np.savetxt(file, node_edge_incidence, fmt='%d', delimiter=';',newline=';\\n')np.savetxt(os.path.join(data_folder, tsp_name +'.csv'), node_edge_incidence, fmt='%d', delimiter=';',newline=';\\n')\u001b[0m\n\u001b[1;37m                                                                                 ^\u001b[0m\n\u001b[1;31mSyntaxError\u001b[0m\u001b[1;31m:\u001b[0m invalid syntax\n"
     ]
    }
   ],
   "source": [
    "for i in range(0,dimension):\n",
    "    for j in range(0,dimension):\n",
    "        node_edge_incidence[i,j] = np.sqrt((location[i,0] - location[j,0])**2 + (location[i,1] - location[j,1])**2)\n",
    "\n",
    "with open(os.path.join(data_folder, tsp_name +'.csv'), mode=\"w\") as file:\n",
    "    file.write(str(dimension) + \"\\n\")\n",
    "with open(os.path.join(data_folder, tsp_name +'.csv'), mode=\"a\") as file:\n",
    "    np.savetxt(file, node_edge_incidence, fmt='%d', delimiter=';',newline=';\\n')\n",
    "    np.savetxt(os.path.join(data_folder, tsp_name +'.csv'), node_edge_incidence, fmt='%d', delimiter=';',newline=';\\n')\n",
    "des = open(os.path.join(data_folder,tsp_name + \".bin\"), \"wb\")\n",
    "des.write(node_edge_incidence)"
   ]
  },
  {
   "cell_type": "code",
   "execution_count": null,
   "metadata": {},
   "outputs": [],
   "source": []
  }
 ],
 "metadata": {
  "kernelspec": {
   "display_name": "Python 3",
   "language": "python",
   "name": "python3"
  },
  "language_info": {
   "codemirror_mode": {
    "name": "ipython",
    "version": 3
   },
   "file_extension": ".py",
   "mimetype": "text/x-python",
   "name": "python",
   "nbconvert_exporter": "python",
   "pygments_lexer": "ipython3",
   "version": "3.7.4"
  }
 },
 "nbformat": 4,
 "nbformat_minor": 2
}
