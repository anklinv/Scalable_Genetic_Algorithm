{
 "cells": [
  {
   "cell_type": "code",
   "execution_count": 1,
   "metadata": {},
   "outputs": [
    {
     "name": "stderr",
     "output_type": "stream",
     "text": [
      "UsageError: Line magic function `%aimport` not found.\n"
     ]
    }
   ],
   "source": [
    "import seaborn as sns\n",
    "import pandas as pd\n",
    "from plot_helper import remove_rank, calculate_wall_clock_time_thresholds, calculate_lengths_achieved, create_compact_scaling_lineplot\n",
    "from matplotlib import rcParams\n",
    "%aimport plot_helper\n",
    "rcParams.update({'figure.autolayout': True})"
   ]
  },
  {
   "cell_type": "code",
   "execution_count": null,
   "metadata": {},
   "outputs": [],
   "source": [
    "data_frames = {\n",
    "    \"a280\"  : \"scaling_test_a280_final.gz\",\n",
    "    \"d1291\" : \"scaling_test_d1291_final.gz\",\n",
    "    \"u2319\" : \"scaling_test_u2319_final.gz\",\n",
    "    \"bier127\" : \"scaling_test_bier127_Jan_10_113307.gz\"\n",
    "}"
   ]
  },
  {
   "cell_type": "code",
   "execution_count": null,
   "metadata": {},
   "outputs": [],
   "source": [
    "df = pd.read_csv(data_frames[\"u2319\"])\n",
    "df"
   ]
  },
  {
   "cell_type": "code",
   "execution_count": null,
   "metadata": {},
   "outputs": [],
   "source": [
    "df = remove_rank(df)\n",
    "df_1 = df[df[\"n\"] == 1]\n",
    "df_1"
   ]
  },
  {
   "cell_type": "code",
   "execution_count": null,
   "metadata": {},
   "outputs": [],
   "source": [
    "to_keep = list(df_1.columns)\n",
    "to_keep.remove(\"wall clock time\")\n",
    "to_keep.remove(\"fitness\")\n",
    "to_keep.remove(\"epoch\")\n",
    "max_wct = df_1.groupby(to_keep, as_index=False).agg({\"wall clock time\": \"max\"})[\"wall clock time\"].min()\n",
    "max_wct"
   ]
  },
  {
   "cell_type": "code",
   "execution_count": null,
   "metadata": {},
   "outputs": [],
   "source": [
    "to_keep = list(df_1.columns)\n",
    "to_keep.remove(\"fitness\")\n",
    "to_keep.remove(\"wall clock time\")\n",
    "if \"epoch\" in df_1:\n",
    "    to_keep.remove(\"epoch\")\n",
    "tmp_df = df_1[df_1[\"wall clock time\"] >= 70000].groupby(to_keep).agg({\"fitness\": \"max\"})\n",
    "tmp_df[\"wall clock time\"] = 70000\n",
    "tmp_df = tmp_df.reset_index()\n",
    "tmp_df"
   ]
  },
  {
   "cell_type": "code",
   "execution_count": null,
   "metadata": {},
   "outputs": [],
   "source": [
    "max_wct / 1000"
   ]
  },
  {
   "cell_type": "code",
   "execution_count": null,
   "metadata": {},
   "outputs": [],
   "source": [
    "tmp_df.fitness.mean()"
   ]
  },
  {
   "cell_type": "code",
   "execution_count": null,
   "metadata": {},
   "outputs": [],
   "source": [
    "from scipy.stats import sem, t\n",
    "from scipy import mean"
   ]
  },
  {
   "cell_type": "code",
   "execution_count": null,
   "metadata": {},
   "outputs": [],
   "source": [
    "m = mean(tmp_df.fitness)\n",
    "std_err = sem(tmp_df.fitness)\n",
    "h = std_err * t.ppf((1 + 0.95) / 2, len(tmp_df.fitness) - 1)\n",
    "h"
   ]
  },
  {
   "cell_type": "code",
   "execution_count": null,
   "metadata": {},
   "outputs": [],
   "source": [
    "df = remove_rank(df)\n",
    "df_64 = df[df[\"n\"] == 64]\n",
    "df_64"
   ]
  },
  {
   "cell_type": "code",
   "execution_count": null,
   "metadata": {},
   "outputs": [],
   "source": [
    "to_keep = list(df_64.columns)\n",
    "to_keep.remove(\"wall clock time\")\n",
    "to_keep.remove(\"fitness\")\n",
    "to_keep.remove(\"epoch\")\n",
    "max_wct = df_64.groupby(to_keep, as_index=False).agg({\"wall clock time\": \"max\"})[\"wall clock time\"].min()\n",
    "max_wct"
   ]
  },
  {
   "cell_type": "code",
   "execution_count": null,
   "metadata": {},
   "outputs": [],
   "source": [
    "to_keep = list(df_64.columns)\n",
    "to_keep.remove(\"fitness\")\n",
    "to_keep.remove(\"wall clock time\")\n",
    "if \"epoch\" in df_64:\n",
    "    to_keep.remove(\"epoch\")\n",
    "tmp_df = df_64[df_64[\"wall clock time\"] >= max_wct].groupby(to_keep).agg({\"fitness\": \"max\"})\n",
    "tmp_df[\"wall clock time\"] = max_wct\n",
    "tmp_df = tmp_df.reset_index()\n",
    "tmp_df"
   ]
  },
  {
   "cell_type": "code",
   "execution_count": null,
   "metadata": {},
   "outputs": [],
   "source": [
    "tmp_df.fitness.mean()"
   ]
  },
  {
   "cell_type": "code",
   "execution_count": null,
   "metadata": {},
   "outputs": [],
   "source": [
    "m = mean(tmp_df.fitness)\n",
    "std_err = sem(tmp_df.fitness)\n",
    "h = std_err * t.ppf((1 + 0.95) / 2, len(tmp_df.fitness) - 1)\n",
    "h"
   ]
  },
  {
   "cell_type": "code",
   "execution_count": null,
   "metadata": {},
   "outputs": [],
   "source": [
    "df_or = pd.read_csv(\"../benchmark/google-or/google_or_benchmark.csv\")\n",
    "df_or"
   ]
  },
  {
   "cell_type": "code",
   "execution_count": null,
   "metadata": {},
   "outputs": [],
   "source": [
    "df_or[\"time\"] = df_or[\"time\"] / 1000\n",
    "df_or.groupby([\"data\"]).agg({\"length\" : \"mean\", \"time\" : \"mean\"})"
   ]
  },
  {
   "cell_type": "code",
   "execution_count": null,
   "metadata": {},
   "outputs": [],
   "source": [
    "m = mean(df_or[df_or[\"data\"] == \"d1291\"].time)\n",
    "std_err = sem(df_or[df_or[\"data\"] == \"d1291\"].time)\n",
    "h = std_err * t.ppf((1 + 0.95) / 2, len(tmp_df.fitness) - 1)\n",
    "h"
   ]
  },
  {
   "cell_type": "code",
   "execution_count": null,
   "metadata": {},
   "outputs": [],
   "source": []
  }
 ],
 "metadata": {
  "kernelspec": {
   "display_name": "Python 3",
   "language": "python",
   "name": "python3"
  },
  "language_info": {
   "codemirror_mode": {
    "name": "ipython",
    "version": 3
   },
   "file_extension": ".py",
   "mimetype": "text/x-python",
   "name": "python",
   "nbconvert_exporter": "python",
   "pygments_lexer": "ipython3",
   "version": "3.7.4"
  }
 },
 "nbformat": 4,
 "nbformat_minor": 2
}
