{
 "cells": [
  {
   "cell_type": "code",
   "execution_count": 1,
   "metadata": {},
   "outputs": [
    {
     "name": "stdout",
     "output_type": "stream",
     "text": [
      "Requirement already satisfied: matplotlib in /Users/hannes/Library/Python/3.7/lib/python/site-packages (3.1.1)\n",
      "Requirement already satisfied: seaborn in /Users/hannes/Library/Python/3.7/lib/python/site-packages (0.9.0)\n",
      "Requirement already satisfied: pandas in /Users/hannes/Library/Python/3.7/lib/python/site-packages (0.25.3)\n",
      "Requirement already satisfied: mpld3 in /Users/hannes/Library/Python/3.7/lib/python/site-packages (0.3)\n",
      "Requirement already satisfied: python-dateutil>=2.1 in /Users/hannes/Library/Python/3.7/lib/python/site-packages (from matplotlib) (2.8.1)\n",
      "Requirement already satisfied: numpy>=1.11 in /Users/hannes/Library/Python/3.7/lib/python/site-packages (from matplotlib) (1.17.4)\n",
      "Requirement already satisfied: kiwisolver>=1.0.1 in /Users/hannes/Library/Python/3.7/lib/python/site-packages (from matplotlib) (1.1.0)\n",
      "Requirement already satisfied: cycler>=0.10 in /Users/hannes/Library/Python/3.7/lib/python/site-packages (from matplotlib) (0.10.0)\n",
      "Requirement already satisfied: pyparsing!=2.0.4,!=2.1.2,!=2.1.6,>=2.0.1 in /Users/hannes/Library/Python/3.7/lib/python/site-packages (from matplotlib) (2.4.5)\n",
      "Requirement already satisfied: scipy>=0.14.0 in /Users/hannes/Library/Python/3.7/lib/python/site-packages (from seaborn) (1.3.2)\n",
      "Requirement already satisfied: pytz>=2017.2 in /Users/hannes/Library/Python/3.7/lib/python/site-packages (from pandas) (2019.3)\n",
      "Requirement already satisfied: six>=1.5 in /Applications/Xcode.app/Contents/Developer/Library/Frameworks/Python3.framework/Versions/3.7/lib/python3.7/site-packages (from python-dateutil>=2.1->matplotlib) (1.12.0)\n",
      "Requirement already satisfied: setuptools in /Applications/Xcode.app/Contents/Developer/Library/Frameworks/Python3.framework/Versions/3.7/lib/python3.7/site-packages (from kiwisolver>=1.0.1->matplotlib) (40.8.0)\n",
      "\u001b[33mYou are using pip version 19.0.3, however version 19.3.1 is available.\n",
      "You should consider upgrading via the 'pip install --upgrade pip' command.\u001b[0m\n"
     ]
    }
   ],
   "source": [
    "# for macOS\n",
    "!pip3 install --user matplotlib seaborn pandas mpld3\n",
    "# !pip install matplotlib seaborn pandas mpld3"
   ]
  },
  {
   "cell_type": "code",
   "execution_count": 240,
   "metadata": {},
   "outputs": [],
   "source": [
    "import csv\n",
    "import matplotlib.pyplot as plt\n",
    "import os\n",
    "import pandas as pd\n",
    "import seaborn as sns\n",
    "import numpy as np"
   ]
  },
  {
   "cell_type": "code",
   "execution_count": 243,
   "metadata": {},
   "outputs": [
    {
     "data": {
      "text/html": [
       "<div>\n",
       "<style scoped>\n",
       "    .dataframe tbody tr th:only-of-type {\n",
       "        vertical-align: middle;\n",
       "    }\n",
       "\n",
       "    .dataframe tbody tr th {\n",
       "        vertical-align: top;\n",
       "    }\n",
       "\n",
       "    .dataframe thead th {\n",
       "        text-align: right;\n",
       "    }\n",
       "</style>\n",
       "<table border=\"1\" class=\"dataframe\">\n",
       "  <thead>\n",
       "    <tr style=\"text-align: right;\">\n",
       "      <th></th>\n",
       "      <th>ranking</th>\n",
       "      <th>crossover</th>\n",
       "      <th>mutation</th>\n",
       "    </tr>\n",
       "  </thead>\n",
       "  <tbody>\n",
       "    <tr>\n",
       "      <th>0</th>\n",
       "      <td>12046</td>\n",
       "      <td>58998</td>\n",
       "      <td>325</td>\n",
       "    </tr>\n",
       "    <tr>\n",
       "      <th>1</th>\n",
       "      <td>12817</td>\n",
       "      <td>19176</td>\n",
       "      <td>432</td>\n",
       "    </tr>\n",
       "    <tr>\n",
       "      <th>2</th>\n",
       "      <td>12778</td>\n",
       "      <td>18666</td>\n",
       "      <td>415</td>\n",
       "    </tr>\n",
       "    <tr>\n",
       "      <th>3</th>\n",
       "      <td>12315</td>\n",
       "      <td>18557</td>\n",
       "      <td>572</td>\n",
       "    </tr>\n",
       "    <tr>\n",
       "      <th>4</th>\n",
       "      <td>11915</td>\n",
       "      <td>18511</td>\n",
       "      <td>367</td>\n",
       "    </tr>\n",
       "    <tr>\n",
       "      <th>...</th>\n",
       "      <td>...</td>\n",
       "      <td>...</td>\n",
       "      <td>...</td>\n",
       "    </tr>\n",
       "    <tr>\n",
       "      <th>9995</th>\n",
       "      <td>6718</td>\n",
       "      <td>16748</td>\n",
       "      <td>335</td>\n",
       "    </tr>\n",
       "    <tr>\n",
       "      <th>9996</th>\n",
       "      <td>6740</td>\n",
       "      <td>17257</td>\n",
       "      <td>486</td>\n",
       "    </tr>\n",
       "    <tr>\n",
       "      <th>9997</th>\n",
       "      <td>6878</td>\n",
       "      <td>16770</td>\n",
       "      <td>374</td>\n",
       "    </tr>\n",
       "    <tr>\n",
       "      <th>9998</th>\n",
       "      <td>6913</td>\n",
       "      <td>16771</td>\n",
       "      <td>353</td>\n",
       "    </tr>\n",
       "    <tr>\n",
       "      <th>9999</th>\n",
       "      <td>6986</td>\n",
       "      <td>16591</td>\n",
       "      <td>487</td>\n",
       "    </tr>\n",
       "  </tbody>\n",
       "</table>\n",
       "<p>10000 rows × 3 columns</p>\n",
       "</div>"
      ],
      "text/plain": [
       "      ranking  crossover  mutation\n",
       "0       12046      58998       325\n",
       "1       12817      19176       432\n",
       "2       12778      18666       415\n",
       "3       12315      18557       572\n",
       "4       11915      18511       367\n",
       "...       ...        ...       ...\n",
       "9995     6718      16748       335\n",
       "9996     6740      17257       486\n",
       "9997     6878      16770       374\n",
       "9998     6913      16771       353\n",
       "9999     6986      16591       487\n",
       "\n",
       "[10000 rows x 3 columns]"
      ]
     },
     "execution_count": 243,
     "metadata": {},
     "output_type": "execute_result"
    }
   ],
   "source": [
    "\n",
    "rankRuntimesFile = \"../rankRuntimesFile.csv\"\n",
    "breedRuntimesFile = \"../breedRuntimesFile.csv\"\n",
    "mutateRuntimesFile = \"../mutateRuntimesFile.csv\"\n",
    "\n",
    "rank_df = pd.read_csv(rankRuntimesFile)\n",
    "breed_df = pd.read_csv(breedRuntimesFile)\n",
    "mutate_df = pd.read_csv(mutateRuntimesFile)\n",
    "\n",
    "combined_df = rank_df\n",
    "combined_df = combined_df.join(breed_df)\n",
    "combined_df = combined_df.join(mutate_df)\n",
    "\n",
    "combined_df.columns = ['ranking', 'crossover', 'mutation'] # change column names\n",
    "\n",
    "combined_df\n"
   ]
  },
  {
   "cell_type": "code",
   "execution_count": 229,
   "metadata": {},
   "outputs": [
    {
     "data": {
      "image/png": "[encoded data removed]",
      "text/plain": [
       "<Figure size 216x360 with 1 Axes>"
      ]
     },
     "metadata": {
      "needs_background": "light"
     },
     "output_type": "display_data"
    }
   ],
   "source": [
    "########################\n",
    "# Without optimization #\n",
    "########################\n",
    "\n",
    "# figure size\n",
    "fig = plt.figure(figsize=(3,5))\n",
    "plt.ylabel('runtime [ns]', fontsize=16)\n",
    "# white space necessary as padding\n",
    "fig.suptitle('        original', fontsize=16)\n",
    "# boxplot\n",
    "# turn off outliers\n",
    "ax = sns.boxplot(data=combined_df, showfliers=False, fliersize=1)\n",
    "# log scale\n",
    "ax.set_yscale('log')\n",
    "# box style\n",
    "# tab:orange, tab:blue, tab:green\n",
    "box = ax.artists[0]\n",
    "box.set_facecolor('tab:orange')\n",
    "box.set_edgecolor('white')\n",
    "box = ax.artists[1]\n",
    "box.set_facecolor('tab:green')\n",
    "box.set_edgecolor('white')\n",
    "box.set_linewidth(1.2)\n",
    "box = ax.artists[2]\n",
    "box.set_facecolor('tab:blue')\n",
    "box.set_edgecolor('white')\n",
    "box.set_linewidth(1.2)\n",
    "# y limits\n",
    "ax.set_ylim([1e2, 1e7]) \n",
    "# label size\n",
    "ax.tick_params(axis='y', labelsize=16)\n",
    "ax.tick_params(axis='x', labelsize=16)\n",
    "# pad ticks\n",
    "labels = ax.get_xticklabels()\n",
    "labels[0].set_text(\"\\nranking\")\n",
    "labels[2].set_text(\"\\nmutation\")\n",
    "ax.set_xticklabels(labels)\n",
    "# grid\n",
    "plt.rc('grid', linestyle=\"-\", color='tab:gray')\n",
    "ax.yaxis.grid(True)\n",
    "plt.show()\n",
    "# y label\n",
    "# save\n",
    "# padding to avoid cutting off tick labels\n",
    "fig.tight_layout(pad=2)\n",
    "plt.show()\n",
    "fig.savefig('profiling_data0.eps')"
   ]
  },
  {
   "cell_type": "code",
   "execution_count": 222,
   "metadata": {},
   "outputs": [
    {
     "data": {
      "image/png": "[encoded data removed]",
      "text/plain": [
       "<Figure size 216x360 with 1 Axes>"
      ]
     },
     "metadata": {
      "needs_background": "light"
     },
     "output_type": "display_data"
    }
   ],
   "source": [
    "#####################\n",
    "# with optimization #\n",
    "#####################\n",
    "\n",
    "# figure size\n",
    "fig = plt.figure(figsize=(3,5))\n",
    "plt.ylabel('runtime [ns]', fontsize=16)\n",
    "# white space necessary as padding\n",
    "fig.suptitle('        with -O3', fontsize=16)\n",
    "# boxplot\n",
    "# turn off outliers\n",
    "ax = sns.boxplot(data=combined_df, showfliers=False, fliersize=1)\n",
    "# log scale\n",
    "ax.set_yscale('log')\n",
    "# box style\n",
    "# tab:orange, tab:blue, tab:green\n",
    "box = ax.artists[0]\n",
    "box.set_facecolor('tab:orange')\n",
    "box.set_edgecolor('white')\n",
    "box = ax.artists[1]\n",
    "box.set_facecolor('tab:green')\n",
    "box.set_edgecolor('white')\n",
    "box.set_linewidth(1.2)\n",
    "box = ax.artists[2]\n",
    "box.set_facecolor('tab:blue')\n",
    "box.set_edgecolor('white')\n",
    "box.set_linewidth(1.2)\n",
    "# y limits\n",
    "ax.set_ylim([1e2, 1e7]) \n",
    "# label size\n",
    "ax.tick_params(axis='y', labelsize=16)\n",
    "ax.tick_params(axis='x', labelsize=16)\n",
    "# pad ticks\n",
    "labels = ax.get_xticklabels()\n",
    "labels[0].set_text(\"\\nranking\")\n",
    "labels[2].set_text(\"\\nmutation\")\n",
    "ax.set_xticklabels(labels)\n",
    "# grid\n",
    "plt.rc('grid', linestyle=\"-\", color='tab:gray')\n",
    "ax.yaxis.grid(True)\n",
    "plt.show()\n",
    "# y label\n",
    "# save\n",
    "# padding to avoid cutting off tick labels\n",
    "fig.tight_layout(pad=2)\n",
    "plt.show()\n",
    "fig.savefig('profiling_data1.eps')"
   ]
  },
  {
   "cell_type": "code",
   "execution_count": 225,
   "metadata": {},
   "outputs": [
    {
     "data": {
      "image/png": "[encoded data removed]",
      "text/plain": [
       "<Figure size 216x360 with 1 Axes>"
      ]
     },
     "metadata": {
      "needs_background": "light"
     },
     "output_type": "display_data"
    }
   ],
   "source": [
    "###############\n",
    "# using a LUT #\n",
    "###############\n",
    "\n",
    "# figure size\n",
    "fig = plt.figure(figsize=(3,5))\n",
    "plt.ylabel('runtime [ns]', fontsize=16)\n",
    "# white space necessary as padding\n",
    "fig.suptitle('         using a LUT', fontsize=16)\n",
    "# boxplot\n",
    "# turn off outliers\n",
    "ax = sns.boxplot(data=combined_df, showfliers=False, fliersize=1)\n",
    "# log scale\n",
    "ax.set_yscale('log')\n",
    "# box style\n",
    "# tab:orange, tab:blue, tab:green\n",
    "box = ax.artists[0]\n",
    "box.set_facecolor('tab:orange')\n",
    "box.set_edgecolor('white')\n",
    "box = ax.artists[1]\n",
    "box.set_facecolor('tab:green')\n",
    "box.set_edgecolor('white')\n",
    "box.set_linewidth(1.2)\n",
    "box = ax.artists[2]\n",
    "box.set_facecolor('tab:blue')\n",
    "box.set_edgecolor('white')\n",
    "box.set_linewidth(1.2)\n",
    "# y limits\n",
    "ax.set_ylim([1e2, 1e7]) \n",
    "# label size\n",
    "ax.tick_params(axis='y', labelsize=16)\n",
    "ax.tick_params(axis='x', labelsize=16)\n",
    "# pad ticks\n",
    "labels = ax.get_xticklabels()\n",
    "labels[0].set_text(\"\\nranking\")\n",
    "labels[2].set_text(\"\\nmutation\")\n",
    "ax.set_xticklabels(labels)\n",
    "# grid\n",
    "plt.rc('grid', linestyle=\"-\", color='tab:gray')\n",
    "ax.yaxis.grid(True)\n",
    "plt.show()\n",
    "# y label\n",
    "# save\n",
    "# padding to avoid cutting off tick labels\n",
    "fig.tight_layout(pad=2)\n",
    "plt.show()\n",
    "fig.savefig('profiling_data2.eps')"
   ]
  },
  {
   "cell_type": "code",
   "execution_count": 242,
   "metadata": {},
   "outputs": [
    {
     "data": {
      "image/png": "[encoded data removed]",
      "text/plain": [
       "<Figure size 216x360 with 1 Axes>"
      ]
     },
     "metadata": {
      "needs_background": "light"
     },
     "output_type": "display_data"
    }
   ],
   "source": [
    "###############\n",
    "# with smaller data types\n",
    "###############\n",
    "\n",
    "# figure size\n",
    "fig = plt.figure(figsize=(3,5))\n",
    "plt.ylabel('runtime [ns]', fontsize=16)\n",
    "# white space necessary as padding\n",
    "fig.suptitle('         w/ uint16, float', fontsize=16)\n",
    "# boxplot\n",
    "# turn off outliers\n",
    "ax = sns.boxplot(data=combined_df, showfliers=False, fliersize=1)\n",
    "# log scale\n",
    "ax.set_yscale('log')\n",
    "# box style\n",
    "# tab:orange, tab:blue, tab:green\n",
    "box = ax.artists[0]\n",
    "box.set_facecolor('tab:orange')\n",
    "box.set_edgecolor('white')\n",
    "box = ax.artists[1]\n",
    "box.set_facecolor('tab:green')\n",
    "box.set_edgecolor('white')\n",
    "box.set_linewidth(1.2)\n",
    "box = ax.artists[2]\n",
    "box.set_facecolor('tab:blue')\n",
    "box.set_edgecolor('white')\n",
    "box.set_linewidth(1.2)\n",
    "# y limits\n",
    "ax.set_ylim([1e2, 1e7]) \n",
    "# label size\n",
    "ax.tick_params(axis='y', labelsize=16)\n",
    "ax.tick_params(axis='x', labelsize=16)\n",
    "# pad ticks\n",
    "labels = ax.get_xticklabels()\n",
    "labels[0].set_text(\"\\nranking\")\n",
    "labels[2].set_text(\"\\nmutation\")\n",
    "ax.set_xticklabels(labels)\n",
    "# grid\n",
    "plt.rc('grid', linestyle=\"-\", color='tab:gray')\n",
    "ax.yaxis.grid(True)\n",
    "plt.show()\n",
    "# y label\n",
    "# save\n",
    "# padding to avoid cutting off tick labels\n",
    "fig.tight_layout(pad=2)\n",
    "plt.show()\n",
    "fig.savefig('profiling_data3.eps')"
   ]
  },
  {
   "cell_type": "code",
   "execution_count": 249,
   "metadata": {},
   "outputs": [
    {
     "data": {
      "image/png": "[encoded data removed]",
      "text/plain": [
       "<Figure size 216x360 with 1 Axes>"
      ]
     },
     "metadata": {
      "needs_background": "light"
     },
     "output_type": "display_data"
    }
   ],
   "source": [
    "###############\n",
    "# with SIMD\n",
    "###############\n",
    "\n",
    "# figure size\n",
    "fig = plt.figure(figsize=(3,5))\n",
    "plt.ylabel('runtime [ns]', fontsize=16)\n",
    "# white space necessary as padding\n",
    "fig.suptitle('         with SIMD', fontsize=16)\n",
    "# boxplot\n",
    "# turn off outliers\n",
    "ax = sns.boxplot(data=combined_df, showfliers=False, fliersize=1)\n",
    "# log scale\n",
    "ax.set_yscale('log')\n",
    "# box style\n",
    "# tab:orange, tab:blue, tab:green\n",
    "box = ax.artists[0]\n",
    "box.set_facecolor('tab:orange')\n",
    "box.set_edgecolor('white')\n",
    "box = ax.artists[1]\n",
    "box.set_facecolor('tab:green')\n",
    "box.set_edgecolor('white')\n",
    "box.set_linewidth(1.2)\n",
    "box = ax.artists[2]\n",
    "box.set_facecolor('tab:blue')\n",
    "box.set_edgecolor('white')\n",
    "box.set_linewidth(1.2)\n",
    "# y limits\n",
    "ax.set_ylim([1e2, 1e7]) \n",
    "# label size\n",
    "ax.tick_params(axis='y', labelsize=16)\n",
    "ax.tick_params(axis='x', labelsize=16)\n",
    "# pad ticks\n",
    "labels = ax.get_xticklabels()\n",
    "labels[0].set_text(\"\\nranking\")\n",
    "labels[2].set_text(\"\\nmutation\")\n",
    "ax.set_xticklabels(labels)\n",
    "# grid\n",
    "plt.rc('grid', linestyle=\"-\", color='tab:gray')\n",
    "ax.yaxis.grid(True)\n",
    "plt.show()\n",
    "# y label\n",
    "# save\n",
    "# padding to avoid cutting off tick labels\n",
    "fig.tight_layout(pad=2)\n",
    "plt.show()\n",
    "fig.savefig('profiling_data4.eps')"
   ]
  },
  {
   "cell_type": "code",
   "execution_count": 143,
   "metadata": {},
   "outputs": [
    {
     "data": {
      "text/plain": [
       "<matplotlib.axes._subplots.AxesSubplot at 0x14f9f6198>"
      ]
     },
     "execution_count": 143,
     "metadata": {},
     "output_type": "execute_result"
    },
    {
     "data": {
      "image/png": "[encoded data removed]",
      "text/plain": [
       "<Figure size 432x288 with 1 Axes>"
      ]
     },
     "metadata": {
      "needs_background": "light"
     },
     "output_type": "display_data"
    }
   ],
   "source": [
    "\n",
    "sns.violinplot(rank_df)\n"
   ]
  },
  {
   "cell_type": "code",
   "execution_count": 12,
   "metadata": {},
   "outputs": [
    {
     "data": {
      "text/plain": [
       "<matplotlib.axes._subplots.AxesSubplot at 0x12a239eb8>"
      ]
     },
     "execution_count": 12,
     "metadata": {},
     "output_type": "execute_result"
    },
    {
     "data": {
      "image/png": "[encoded data removed]",
      "text/plain": [
       "<Figure size 432x288 with 1 Axes>"
      ]
     },
     "metadata": {
      "needs_background": "light"
     },
     "output_type": "display_data"
    }
   ],
   "source": [
    "\n",
    "sns.violinplot(breed_df)\n"
   ]
  },
  {
   "cell_type": "code",
   "execution_count": 13,
   "metadata": {},
   "outputs": [
    {
     "data": {
      "text/plain": [
       "<matplotlib.axes._subplots.AxesSubplot at 0x12a380c18>"
      ]
     },
     "execution_count": 13,
     "metadata": {},
     "output_type": "execute_result"
    },
    {
     "data": {
      "image/png": "[encoded data removed]",
      "text/plain": [
       "<Figure size 432x288 with 1 Axes>"
      ]
     },
     "metadata": {
      "needs_background": "light"
     },
     "output_type": "display_data"
    }
   ],
   "source": [
    "\n",
    "sns.violinplot(mutate_df)\n"
   ]
  },
  {
   "cell_type": "code",
   "execution_count": null,
   "metadata": {},
   "outputs": [],
   "source": []
  }
 ],
 "metadata": {
  "kernelspec": {
   "display_name": "Python 3",
   "language": "python",
   "name": "python3"
  },
  "language_info": {
   "codemirror_mode": {
    "name": "ipython",
    "version": 3
   },
   "file_extension": ".py",
   "mimetype": "text/x-python",
   "name": "python",
   "nbconvert_exporter": "python",
   "pygments_lexer": "ipython3",
   "version": "3.7.3"
  }
 },
 "nbformat": 4,
 "nbformat_minor": 2
}
