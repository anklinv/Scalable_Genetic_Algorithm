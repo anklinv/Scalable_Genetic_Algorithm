{
 "cells": [
  {
   "cell_type": "code",
   "execution_count": null,
   "metadata": {},
   "outputs": [],
   "source": [
    "import argparse\n",
    "import csv\n",
    "import matplotlib.pyplot as plt\n",
    "import glob\n",
    "import os\n",
    "import json\n",
    "import seaborn as sns\n",
    "import pandas as pd\n",
    "import mpld3\n",
    "from IPython import display"
   ]
  },
  {
   "cell_type": "code",
   "execution_count": null,
   "metadata": {},
   "outputs": [],
   "source": [
    "leonhard_directory = \"../logs/island_scaling_Nov_15_003228\""
   ]
  },
  {
   "cell_type": "code",
   "execution_count": null,
   "metadata": {},
   "outputs": [],
   "source": [
    "from process_log import Tags, Log"
   ]
  },
  {
   "cell_type": "code",
   "execution_count": null,
   "metadata": {},
   "outputs": [],
   "source": [
    "tags = Tags(\"tags.hpp\")"
   ]
  },
  {
   "cell_type": "code",
   "execution_count": null,
   "metadata": {},
   "outputs": [],
   "source": [
    "all_names = os.listdir(leonhard_directory)\n",
    "\n",
    "# Validate JSON\n",
    "json_file = list(filter(lambda x: \".json\" in x, all_names))\n",
    "if len(json_file) == 0:\n",
    "    print(\"Could not find JSON file in directory {}\".format(leonhard_directory))\n",
    "    exit(1)\n",
    "if len(json_file) > 1:\n",
    "    print(\"Found multiple JSON files ({}) in the directory {}\".format(json_file, leonhard_directory))\n",
    "    exit(1)\n",
    "json_file = json_file[0]\n",
    "with open(os.path.join(leonhard_directory, json_file)) as file:\n",
    "    json_file = json.load(file)\n",
    "    repetitions = json_file[\"repetitions\"]\n",
    "\n",
    "all_names = list(filter(lambda x: os.path.isdir(os.path.join(leonhard_directory, x)), all_names))\n",
    "unique_names = list(set(map(lambda x: \"_\".join(x.split(\"_\")[:-1]), all_names)))\n",
    "unique_names"
   ]
  },
  {
   "cell_type": "code",
   "execution_count": null,
   "metadata": {},
   "outputs": [],
   "source": [
    "all_data = list()\n",
    "for run_name in unique_names[1:]:\n",
    "    for repetition in range(repetitions):\n",
    "        folder_name = run_name + \"_\" + str(repetition)\n",
    "        folder_contents = os.listdir(os.path.join(leonhard_directory, folder_name))\n",
    "        folder_contents = list(filter(lambda x: \".bin\" in x, folder_contents))\n",
    "        logs = [Log(os.path.join(leonhard_directory, folder_name, path), tags) for path in folder_contents]\n",
    "        rank_runtimes = list(map(lambda x: x.get_wall_clock_durations('logging')[0], logs))\n",
    "        max_time = max(rank_runtimes)\n",
    "        name = run_name.split(\"_\")\n",
    "        all_data.append((name[0], name[1], max_time, repetition))"
   ]
  },
  {
   "cell_type": "code",
   "execution_count": null,
   "metadata": {},
   "outputs": [],
   "source": [
    "df = pd.DataFrame(all_data, columns=[\"n\", \"data\", \"time\", \"rep\"])\n",
    "df"
   ]
  },
  {
   "cell_type": "code",
   "execution_count": null,
   "metadata": {},
   "outputs": [],
   "source": [
    "fig, ax = plt.subplots()\n",
    "sns.boxplot(ax=ax, y=\"time\", x=\"n\", data=df[df.data == \"berlin52csv\"])\n",
    "ax.set_title(\"TSP Graph: berlin52\")\n",
    "fig.savefig(\"runtime_island_scaling_berlin52.svg\")\n",
    "ax"
   ]
  },
  {
   "cell_type": "code",
   "execution_count": null,
   "metadata": {},
   "outputs": [],
   "source": [
    "fig, ax = plt.subplots()\n",
    "sns.boxplot(ax=ax, y=\"time\", x=\"n\", data=df[df.data == \"a280csv\"])\n",
    "ax.set_title(\"TSP Graph: a280\")\n",
    "fig.savefig(\"runtime_island_scaling_a280.svg\")\n",
    "ax"
   ]
  },
  {
   "cell_type": "code",
   "execution_count": null,
   "metadata": {},
   "outputs": [],
   "source": []
  },
  {
   "cell_type": "code",
   "execution_count": null,
   "metadata": {},
   "outputs": [],
   "source": []
  }
 ],
 "metadata": {
  "kernelspec": {
   "display_name": "Python 3",
   "language": "python",
   "name": "python3"
  },
  "language_info": {
   "codemirror_mode": {
    "name": "ipython",
    "version": 3
   },
   "file_extension": ".py",
   "mimetype": "text/x-python",
   "name": "python",
   "nbconvert_exporter": "python",
   "pygments_lexer": "ipython3",
   "version": "3.7.4"
  }
 },
 "nbformat": 4,
 "nbformat_minor": 2
}
