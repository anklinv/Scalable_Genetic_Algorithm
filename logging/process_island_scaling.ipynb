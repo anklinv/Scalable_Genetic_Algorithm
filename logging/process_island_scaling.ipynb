{
 "cells": [
  {
   "cell_type": "code",
   "execution_count": null,
   "metadata": {},
   "outputs": [],
   "source": [
    "import argparse\n",
    "import csv\n",
    "import matplotlib.pyplot as plt\n",
    "import glob\n",
    "import os\n",
    "import json\n",
    "import seaborn as sns\n",
    "import pandas as pd\n",
    "import mpld3\n",
    "from IPython import display"
   ]
  },
  {
   "cell_type": "code",
   "execution_count": null,
   "metadata": {},
   "outputs": [],
   "source": [
    "from process_log import Tags, Log, Epochs"
   ]
  },
  {
   "cell_type": "code",
   "execution_count": null,
   "metadata": {},
   "outputs": [],
   "source": [
    "leonhard_directory = \"../logs/island_scaling_Nov_15_003228\""
   ]
  },
  {
   "cell_type": "code",
   "execution_count": null,
   "metadata": {},
   "outputs": [],
   "source": [
    "tags = Tags(\"tags.hpp\")"
   ]
  },
  {
   "cell_type": "code",
   "execution_count": null,
   "metadata": {},
   "outputs": [],
   "source": [
    "all_names = os.listdir(leonhard_directory)\n",
    "\n",
    "# Validate JSON\n",
    "json_file = list(filter(lambda x: \".json\" in x, all_names))\n",
    "if len(json_file) == 0:\n",
    "    print(\"Could not find JSON file in directory {}\".format(leonhard_directory))\n",
    "    exit(1)\n",
    "if len(json_file) > 1:\n",
    "    print(\"Found multiple JSON files ({}) in the directory {}\".format(json_file, leonhard_directory))\n",
    "    exit(1)\n",
    "json_file = json_file[0]\n",
    "with open(os.path.join(leonhard_directory, json_file)) as file:\n",
    "    json_file = json.load(file)\n",
    "    repetitions = json_file[\"repetitions\"]\n",
    "\n",
    "all_names = list(filter(lambda x: os.path.isdir(os.path.join(leonhard_directory, x)), all_names))\n",
    "unique_names = list(set(map(lambda x: \"_\".join(x.split(\"_\")[:-1]), all_names)))\n",
    "unique_names"
   ]
  },
  {
   "cell_type": "code",
   "execution_count": null,
   "metadata": {},
   "outputs": [],
   "source": [
    "df = None\n",
    "for run_name in unique_names:\n",
    "    n = run_name.split(\"_\")[0]\n",
    "    data = run_name.split(\"_\")[1]\n",
    "    for repetition in range(repetitions):\n",
    "        folder_name = run_name + \"_\" + str(repetition)\n",
    "        folder_contents = os.listdir(os.path.join(leonhard_directory, folder_name))\n",
    "        folder_contents = list(filter(lambda x: \".bin\" in x, folder_contents))\n",
    "        logs = [Log(os.path.join(leonhard_directory, folder_name, path), tags) for path in folder_contents]\n",
    "        for filename in folder_contents:\n",
    "            log = Log(os.path.join(leonhard_directory, folder_name, filename), tags)\n",
    "            rank = int(filename.split(\"_\")[-2])\n",
    "            epochs = Epochs(log, tags)\n",
    "            if df is None:\n",
    "                df = pd.DataFrame(epochs.get_fitness_vs_time_dataframe(), columns=[\"fitness\", \"wall clock time\", \"epoch\"])\n",
    "                df[\"rank\"] = rank\n",
    "                df[\"rep\"] = repetition\n",
    "                df[\"n\"] = n\n",
    "                df[\"data\"] = data\n",
    "            else:\n",
    "                df2 = pd.DataFrame(epochs.get_fitness_vs_time_dataframe(), columns=[\"fitness\", \"wall clock time\", \"epoch\"])\n",
    "                df2[\"rank\"] = rank\n",
    "                df2[\"rep\"] = repetition\n",
    "                df2[\"n\"] = n\n",
    "                df2[\"data\"] = data\n",
    "                df = df.append(df2, ignore_index=True)"
   ]
  },
  {
   "cell_type": "code",
   "execution_count": null,
   "metadata": {},
   "outputs": [],
   "source": [
    "df.to_csv(\"island_scaling_fitness_time.gz\", compression=\"gzip\")"
   ]
  },
  {
   "cell_type": "code",
   "execution_count": null,
   "metadata": {},
   "outputs": [],
   "source": [
    "df = pd.read_csv(\"island_scaling_fitness_time.gz\")\n",
    "df = df.drop(columns=\"Unnamed: 0\")\n",
    "df"
   ]
  },
  {
   "cell_type": "code",
   "execution_count": null,
   "metadata": {},
   "outputs": [],
   "source": [
    "# Take out rank variation\n",
    "new_df = df.groupby([\"epoch\", \"rep\", \"n\", \"data\"], as_index=False).agg({\"fitness\" : \"min\", \"wall clock time\" : \"max\"})\n",
    "new_df = new_df.drop(columns=\"wall clock time\")\n",
    "new_df"
   ]
  },
  {
   "cell_type": "code",
   "execution_count": null,
   "metadata": {},
   "outputs": [],
   "source": [
    "fake_df = new_df.groupby([\"epoch\", \"rep\", \"n\", \"data\", \"fitness\"], as_index=False).max()\n",
    "fake_df"
   ]
  },
  {
   "cell_type": "code",
   "execution_count": null,
   "metadata": {},
   "outputs": [],
   "source": [
    "fake_df[fake_df.n == 1][fake_df.epoch == 0][fake_df.data == \"a280csv\"]"
   ]
  },
  {
   "cell_type": "code",
   "execution_count": null,
   "metadata": {},
   "outputs": [],
   "source": [
    "import matplotlib.ticker as ticker\n",
    "\n",
    "fig, ax = plt.subplots()\n",
    "sns.lineplot(ax=ax, x=\"epoch\", y=\"fitness\", hue=\"n\", legend='full', data=new_df[new_df.data == \"a280csv\"])\n",
    "ax.set_xlim(500, 2500)\n",
    "ax.set_ylim(4000, 14000)"
   ]
  },
  {
   "cell_type": "code",
   "execution_count": null,
   "metadata": {},
   "outputs": [],
   "source": [
    "fig.savefig(\"island_scaling_a280_part.svg\")"
   ]
  },
  {
   "cell_type": "code",
   "execution_count": null,
   "metadata": {},
   "outputs": [],
   "source": [
    "fig, ax = plt.subplots()\n",
    "sns.lineplot(ax=ax, x=\"epoch\", y=\"fitness\", hue=\"n\", legend='full', data=new_df[new_df.data == \"berlin52csv\"])\n",
    "ax.set_title(\"Island Model - TSP Graph a280\")\n",
    "ax.set_xlim(0, 2500)\n",
    "ax.set_ylim(7500, 12500)"
   ]
  },
  {
   "cell_type": "code",
   "execution_count": null,
   "metadata": {},
   "outputs": [],
   "source": [
    "fig.savefig(\"island_scaling_berlin52_full.svg\")"
   ]
  },
  {
   "cell_type": "code",
   "execution_count": null,
   "metadata": {},
   "outputs": [],
   "source": [
    "fig, ax = plt.subplots()\n",
    "sns.lineplot(ax=ax, x=\"epoch\", y=\"fitness\", hue=\"n\", legend='full', data=new_df[new_df.data == \"berlin52csv\"][new_df.epoch % 100 == 0])\n",
    "ax.set_title(\"Island Model - TSP Graph berlin52\")\n",
    "ax.set_xlim(0, 1000)\n",
    "ax.set_ylim(7500, 11000)"
   ]
  },
  {
   "cell_type": "code",
   "execution_count": null,
   "metadata": {},
   "outputs": [],
   "source": [
    "fig.savefig(\"island_scaling_berlin52_fast.svg\")"
   ]
  },
  {
   "cell_type": "code",
   "execution_count": null,
   "metadata": {},
   "outputs": [],
   "source": []
  }
 ],
 "metadata": {
  "kernelspec": {
   "display_name": "Python 3",
   "language": "python",
   "name": "python3"
  },
  "language_info": {
   "codemirror_mode": {
    "name": "ipython",
    "version": 3
   },
   "file_extension": ".py",
   "mimetype": "text/x-python",
   "name": "python",
   "nbconvert_exporter": "python",
   "pygments_lexer": "ipython3",
   "version": "3.7.4"
  }
 },
 "nbformat": 4,
 "nbformat_minor": 2
}
