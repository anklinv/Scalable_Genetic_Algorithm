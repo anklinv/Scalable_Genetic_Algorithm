{
 "cells": [
  {
   "cell_type": "code",
   "execution_count": 5,
   "metadata": {},
   "outputs": [],
   "source": [
    "import numpy as np\n",
    "import sys\n",
    "import os"
   ]
  },
  {
   "cell_type": "code",
   "execution_count": 76,
   "metadata": {},
   "outputs": [],
   "source": [
    "data_folder = \"data\"\n",
    "tsp_file = \"test.tsp\""
   ]
  },
  {
   "cell_type": "code",
   "execution_count": 77,
   "metadata": {},
   "outputs": [],
   "source": [
    "tsp_name = tsp_file.split('.')[0]\n",
    "cities_list = []\n",
    "with open(os.path.join(data_folder, tsp_file)) as f:\n",
    "    lns = f.readlines()"
   ]
  },
  {
   "cell_type": "code",
   "execution_count": 78,
   "metadata": {},
   "outputs": [
    {
     "data": {
      "text/plain": [
       "9"
      ]
     },
     "execution_count": 78,
     "metadata": {},
     "output_type": "execute_result"
    }
   ],
   "source": [
    "dimension = [x for x in lns if \"DIMENSION\" in x]\n",
    "dimension = int(dimension[0].split(\":\")[1])\n",
    "dimension"
   ]
  },
  {
   "cell_type": "code",
   "execution_count": 79,
   "metadata": {},
   "outputs": [
    {
     "data": {
      "text/plain": [
       "6"
      ]
     },
     "execution_count": 79,
     "metadata": {},
     "output_type": "execute_result"
    }
   ],
   "source": [
    "first_line = [x for x in lns if \"1 \" in x]\n",
    "data_start = lns.index(first_line[0])\n",
    "data_start"
   ]
  },
  {
   "cell_type": "code",
   "execution_count": 80,
   "metadata": {},
   "outputs": [
    {
     "data": {
      "text/plain": [
       "array([[0., 0.],\n",
       "       [0., 1.],\n",
       "       [0., 2.],\n",
       "       [0., 3.],\n",
       "       [0., 4.],\n",
       "       [0., 5.],\n",
       "       [0., 6.],\n",
       "       [0., 7.],\n",
       "       [0., 8.]])"
      ]
     },
     "execution_count": 80,
     "metadata": {},
     "output_type": "execute_result"
    }
   ],
   "source": [
    "node_edge_incidence = np.empty((dimension,dimension))\n",
    "location = np.empty((dimension,2))\n",
    "for i in range(0,dimension):\n",
    "    location[i,:] = lns[i + data_start].strip().split()[1:]\n",
    "location"
   ]
  },
  {
   "cell_type": "code",
   "execution_count": 81,
   "metadata": {},
   "outputs": [],
   "source": [
    "for i in range(0,dimension):\n",
    "    for j in range(0,dimension):\n",
    "        node_edge_incidence[i,j] = np.sqrt((location[i,0] - location[j,0])**2 + (location[i,1] - location[j,1])**2)\n",
    "\n",
    "np.savetxt(os.path.join(data_folder, tsp_name +'.csv'), node_edge_incidence, fmt='%d', delimiter=';',newline=';\\n')"
   ]
  },
  {
   "cell_type": "code",
   "execution_count": null,
   "metadata": {},
   "outputs": [],
   "source": []
  }
 ],
 "metadata": {
  "kernelspec": {
   "display_name": "Python 3",
   "language": "python",
   "name": "python3"
  },
  "language_info": {
   "codemirror_mode": {
    "name": "ipython",
    "version": 3
   },
   "file_extension": ".py",
   "mimetype": "text/x-python",
   "name": "python",
   "nbconvert_exporter": "python",
   "pygments_lexer": "ipython3",
   "version": "3.7.4"
  }
 },
 "nbformat": 4,
 "nbformat_minor": 2
}
